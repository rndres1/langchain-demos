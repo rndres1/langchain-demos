{
 "cells": [
  {
   "cell_type": "markdown",
   "id": "c5d81f98-7301-4cbb-914b-aaa5e8d989cf",
   "metadata": {},
   "source": [
    "### First, setup the LLMs. We will use Anthropic and OpenAI interchangeably."
   ]
  },
  {
   "cell_type": "code",
   "execution_count": 1,
   "id": "4b7be03f-dc6c-42b6-80e3-0fe960651e7e",
   "metadata": {},
   "outputs": [],
   "source": [
    "from langchain.llms import OpenAI\n",
    "from langchain import PromptTemplate\n",
    "from langchain.llms import Anthropic\n",
    "\n",
    "openai_llm = OpenAI(temperature=0.7)\n",
    "anthropic_llm = Anthropic(temperature=0.7)"
   ]
  },
  {
   "cell_type": "markdown",
   "id": "4645a822-d8e9-428d-b3d3-346626661bcb",
   "metadata": {},
   "source": [
    "### Example 1: Using PromptTemplate -- write a list of jokes about a given profession. Then write a second list of jokes similar to the first one but on a different profession"
   ]
  },
  {
   "cell_type": "markdown",
   "id": "bc728c2c-6a1b-4376-ae26-9f512a2755aa",
   "metadata": {},
   "source": [
    "**Prompt, template etc. need to be defined only once**"
   ]
  },
  {
   "cell_type": "code",
   "execution_count": 2,
   "id": "1f4f0b40-0094-4354-8a3a-e47f4185572d",
   "metadata": {},
   "outputs": [],
   "source": [
    "professions = ['computer scientists', 'truck drivers', 'lawyers', 'accountants', 'waitress', 'pilot']\n",
    "profession1 = professions[0]\n",
    "prompt1 = f\"Write 7 jokes about {profession1}. Return the jokes as a numbered list.\"\n",
    "\n",
    "template = \"\"\"\n",
    "Given below is a numbered list of jokes about {profession1}. \n",
    "Riff on these jokes to make equal number of similar jokes about {profession2}. \n",
    "Do not add any explanation, elaboration or any additional comments.\n",
    "---\n",
    "{jokes_output}\n",
    "\"\"\"\n",
    "p_template = PromptTemplate(input_variables=['profession1', 'profession2', 'jokes_output'], template=template)"
   ]
  },
  {
   "cell_type": "code",
   "execution_count": 8,
   "id": "c87d55ee-8712-45f6-bd8d-da240f32a7ce",
   "metadata": {},
   "outputs": [],
   "source": [
    "def print_jokes_multi(llm_in_use, prompt1, professions, p_template):\n",
    "    resp1 = llm_in_use(prompt1)\n",
    "    profession1 = professions[0]\n",
    "    print (f\"================== ORIGINAL jokes : {profession1} ========================\")\n",
    "    print (resp1.strip())\n",
    "\n",
    "    for profession2 in professions[1:]:\n",
    "        prompt2 = p_template.format(profession2=profession2, jokes_output=resp1, profession1=profession1)\n",
    "        resp2 = llm_in_use(prompt2)\n",
    "        print (f\"======================={profession2}=====================\")\n",
    "        print (resp2.strip())"
   ]
  },
  {
   "cell_type": "markdown",
   "id": "2622d89c-8d5e-4dc0-8913-2161dd649d01",
   "metadata": {},
   "source": [
    "**First, run on Anthropic**"
   ]
  },
  {
   "cell_type": "code",
   "execution_count": 9,
   "id": "8909bbad-7368-4f75-8c05-2a83faa3d3b5",
   "metadata": {},
   "outputs": [
    {
     "name": "stdout",
     "output_type": "stream",
     "text": [
      "================== ORIGINAL jokes : computer scientists ========================\n",
      "1. Why do computer scientists always mix up Halloween and Christmas? Because 31 OCT = 25 DEC.\n",
      "\n",
      "2. Why was the computer scientist so happy when he finished his homework? Because he finally got to the end of recursion.\n",
      "\n",
      "3. Why do computer scientists name their dogs \"Induction\" and \"Hypothesis\"? Because non-terminating recursion is undecidable.\n",
      "\n",
      "4. Why did the computer cross the road? To get to the other side and optimize the route.\n",
      "\n",
      "5. Why was the Java programmer so happy? Because he finally caught Exception.\n",
      "\n",
      "6. Why do programmers always mix up Halloween and Christmas? Because Oct 31 equals Dec 25.\n",
      "\n",
      "7. Why was the C++ programmer so happy? Because he finally caught std::exception.\n",
      "=======================truck drivers=====================\n",
      "1. Why do truck drivers always mix up Halloween and Christmas? Because they can't tell the difference between 31 OCT and 25 DEC.\n",
      "\n",
      "2. Why was the truck driver so happy when he finished his route? Because he finally got to the end of the highway.\n",
      "\n",
      "3. Why do truck drivers name their dogs \"Load\" and \"Capacity\"? Because non-terminating cargo is unmeasurable.\n",
      "\n",
      "4. Why did the truck cross the road? To get to the other side and find a shorter route.\n",
      "\n",
      "5. Why was the trucker so happy? Because he finally caught a break.\n",
      "\n",
      "6. Why do truckers always mix up Halloween and Christmas? Because Oct 31 equals Dec 25.\n",
      "\n",
      "7. Why was the big rig driver so happy? Because he finally caught a rest stop.\n",
      "=======================lawyers=====================\n",
      "1. Why do lawyers always mix up Halloween and Christmas? Because 31 OCT = 25 DEC (case).\n",
      "\n",
      "2. Why was the lawyer so happy when he finished his homework? Because he finally got to the end of litigation.\n",
      "\n",
      "3. Why do lawyers name their dogs \"Precedent\" and \"Evidence\"? Because unending trials are inconclusive.\n",
      "\n",
      "4. Why did the lawyer cross the road? To get to the other side and charge by the hour.\n",
      "\n",
      "5. Why was the legal counsel so happy? Because he finally caught Exception (to the rule).\n",
      "\n",
      "6. Why do lawyers always mix up Halloween and Christmas? Because Oct 31 equals Dec 25 (in legalese).\n",
      "\n",
      "7. Why was the legal eagle so happy? Because he finally caught std::exception (to the rule).\n",
      "=======================accountants=====================\n",
      "1. Why do accountants always mix up Halloween and Christmas? Because 31 OCT = 25 DEC (depreciation).\n",
      "\n",
      "2. Why was the accountant so happy when he finished his work? Because he finally got to the end of the ledger.\n",
      "\n",
      "3. Why do accountants name their dogs \"Asset\" and \"Liability\"? Because the balance sheet is unbalanced.\n",
      "\n",
      "4. Why did the accountant cross the road? To get to the other side and optimize the tax deductions.\n",
      "\n",
      "5. Why was the tax accountant so happy? Because he finally caught Audit Exception.\n",
      "\n",
      "6. Why do accountants always mix up Halloween and Christmas? Because Oct 31 equals Dec 25 (fiscal year end).\n",
      "\n",
      "7. Why was the forensic accountant so happy? Because he finally caught financial fraud.\n",
      "=======================waitress=====================\n",
      "1. Why does the waitress always mix up breakfast and dinner? Because eggs and bacon at 8am = steak and potatoes at 6pm.\n",
      "\n",
      "2. Why was the waitress so happy when she finished her shift? Because she finally got to the end of her rounds.\n",
      "\n",
      "3. Why does the waitress name her dogs \"Table 1\" and \"Table 5\"? Because non-terminating service is undecidable.\n",
      "\n",
      "4. Why did the waitress cross the road? To get to the other side and optimize her route between tables.\n",
      "\n",
      "5. Why was the waitress so happy? Because she finally caught a break.\n",
      "\n",
      "6. Why does the waitress always mix up breakfast and dinner? Because eggs and bacon at 8am = steak and potatoes at 6pm.\n",
      "\n",
      "7. Why was the waitress so happy? Because she finally caught a spare moment.\n",
      "=======================pilot=====================\n",
      "1. Why do pilots always mix up Halloween and Christmas? Because 31 OCT = 25 DEC (altitude).\n",
      "\n",
      "2. Why was the pilot so happy when he finished his pre-flight check? Because he finally got to the end of the runway.\n",
      "\n",
      "3. Why do pilots name their dogs \"Takeoff\" and \"Landing\"? Because non-terminating ascent/descent is undecidable.\n",
      "\n",
      "4. Why did the plane cross the sky? To get to the other altitude and optimize the route.\n",
      "\n",
      "5. Why was the pilot so happy? Because he finally caught a tailwind.\n",
      "\n",
      "6. Why do pilots always mix up Halloween and Christmas? Because Oct 31 equals Dec 25 (thousand feet).\n",
      "\n",
      "7. Why was the pilot so happy? Because he finally caught a good weather system.\n"
     ]
    }
   ],
   "source": [
    "print_jokes_multi(anthropic_llm, prompt1, professions, p_template)"
   ]
  },
  {
   "cell_type": "markdown",
   "id": "c6380f5f-4c63-4353-85a8-358ad76c8d74",
   "metadata": {},
   "source": [
    "**Next, OpenAI**"
   ]
  },
  {
   "cell_type": "code",
   "execution_count": 10,
   "id": "15ea4bc1-9d69-4b72-86b2-f90bc3720664",
   "metadata": {},
   "outputs": [
    {
     "name": "stdout",
     "output_type": "stream",
     "text": [
      "================== ORIGINAL jokes : computer scientists ========================\n",
      "1. Why did the computer scientist leave his job? He didn't get Boolean.\n",
      "\n",
      "2. What did the computer scientist say when he found two dead batteries? Oh no, I short-circuited.\n",
      "\n",
      "3. What did the computer scientist say when his computer wouldn't turn on? Let me try to debug it.\n",
      "\n",
      "4. What did the computer scientist say when he saw a purple spider? It must be an Arachnid programming language.\n",
      "\n",
      "5. What did the computer scientist say when he spilled coffee on his laptop? Don't worry, it's just a minor java error.\n",
      "\n",
      "6. What did the computer scientist say when his friend asked him if he knew a joke? Of course, I know a few puns.\n",
      "\n",
      "7. What did the computer scientist say when his friend asked him to help with a math problem? Sure, I'm good at binary arithmetic.\n",
      "=======================truck drivers=====================\n",
      "1. Why did the truck driver leave his job? He just wasn't cut out for the gear shifts.\n",
      "\n",
      "2. What did the truck driver say when he found two flat tires? Oh no, I'm out of spares.\n",
      "\n",
      "3. What did the truck driver say when his truck wouldn't start? Let me try to jump it.\n",
      "\n",
      "4. What did the truck driver say when he saw a large spider? It must be a diesel-powered arachnid.\n",
      "\n",
      "5. What did the truck driver say when he spilled coffee on his steering wheel? Don't worry, it's just a minor caffeine error.\n",
      "\n",
      "6. What did the truck driver say when his friend asked him if he knew a joke? Of course, I know a few gearhead puns.\n",
      "\n",
      "7. What did the truck driver say when his friend asked him to help with a math problem? Sure, I'm good at calculating miles per gallon.\n",
      "=======================lawyers=====================\n",
      "8. What did the computer scientist say when his laptop crashed? Don't worry, it's just a kernel panic.\n",
      "\n",
      "1. Why did the lawyer leave his job? He didn't get his briefs.\n",
      "\n",
      "2. What did the lawyer say when he found two dead batteries? Objection, Your Honor!\n",
      "\n",
      "3. What did the lawyer say when his computer wouldn't turn on? Let me call a witness.\n",
      "\n",
      "4. What did the lawyer say when he saw a purple spider? I'm going to need an arachnid expert.\n",
      "\n",
      "5. What did the lawyer say when he spilled coffee on his laptop? Don't worry, it's just a minor spillage of evidence.\n",
      "\n",
      "6. What did the lawyer say when his friend asked him if he knew a joke? Of course, I know a few loopholes.\n",
      "\n",
      "7. What did the lawyer say when his friend asked him to help with a math problem? Sure, I'm good at calculating fees.\n",
      "\n",
      "8. What did the lawyer say when his laptop crashed? Don't worry, it's just a technicality.\n",
      "=======================accountants=====================\n",
      "1. Why did the accountant leave his job? He wasn't adding up.\n",
      "\n",
      "2. What did the accountant say when he found two dead batteries? That's a balance sheet disaster.\n",
      "\n",
      "3. What did the accountant say when his computer wouldn't turn on? I'll need to balance the budget to get this going.\n",
      "\n",
      "4. What did the accountant say when he saw a purple spider? It's a ledger-keeping spider.\n",
      "\n",
      "5. What did the accountant say when he spilled coffee on his laptop? Don't worry, it's just a minor financial adjustment.\n",
      "\n",
      "6. What did the accountant say when his friend asked him if he knew a joke? Of course, I know a few tax jokes.\n",
      "\n",
      "7. What did the accountant say when his friend asked him to help with a math problem? Sure, I'm good at financial calculations.\n",
      "=======================waitress=====================\n",
      "8. What did the computer scientist say when he couldn't find his keys? I must have misplaced my pointer.\n",
      "\n",
      "1. Why did the waitress leave her job? She didn't get her tips.\n",
      "\n",
      "2. What did the waitress say when she found two empty glasses? Oh no, I overserved them.\n",
      "\n",
      "3. What did the waitress say when her tray was too heavy? Let me try to balance it.\n",
      "\n",
      "4. What did the waitress say when she saw a blue fly? It must be a sapphire-winged insect.\n",
      "\n",
      "5. What did the waitress say when she spilled coffee on her apron? Don't worry, it's just a minor stain.\n",
      "\n",
      "6. What did the waitress say when her friend asked her if she knew a joke? Of course, I know a few orders.\n",
      "\n",
      "7. What did the waitress say when her friend asked her to help with a math problem? Sure, I'm good at counting change.\n",
      "\n",
      "8. What did the waitress say when she couldn't find her order pad? I must have misplaced my notepad.\n",
      "=======================pilot=====================\n",
      "8. What did the computer scientist say when his friend asked him how his job was going? It's running smoothly.\n",
      "\n",
      "1. Why did the pilot leave his job? He didn't get take off.\n",
      "\n",
      "2. What did the pilot say when he found two dead engines? Oh no, I stalled.\n",
      "\n",
      "3. What did the pilot say when his plane wouldn't turn on? Let me try to troubleshoot it.\n",
      "\n",
      "4. What did the pilot say when he saw a pink bird? It must be a Flamingo-navigation language.\n",
      "\n",
      "5. What did the pilot say when he spilled coffee on his cockpit? Don't worry, it's just a minor turbulence.\n",
      "\n",
      "6. What did the pilot say when his friend asked him if he knew a joke? Of course, I know a few air-quips.\n",
      "\n",
      "7. What did the pilot say when his friend asked him to help with a math problem? Sure, I'm good at altitude arithmetic.\n",
      "\n",
      "8. What did the pilot say when his friend asked him how his job was going? It's soaring smoothly.\n"
     ]
    }
   ],
   "source": [
    "# only need to change the first argument, i.e. the LLM object\n",
    "print_jokes_multi(openai_llm, prompt1, professions, p_template)"
   ]
  },
  {
   "cell_type": "markdown",
   "id": "cff2500d-9f0d-4f53-b0ad-80582ecb6ac9",
   "metadata": {},
   "source": [
    "### Example 2 : using LLMchain"
   ]
  }
 ],
 "metadata": {
  "kernelspec": {
   "display_name": "Python 3 (ipykernel)",
   "language": "python",
   "name": "python3"
  },
  "language_info": {
   "codemirror_mode": {
    "name": "ipython",
    "version": 3
   },
   "file_extension": ".py",
   "mimetype": "text/x-python",
   "name": "python",
   "nbconvert_exporter": "python",
   "pygments_lexer": "ipython3",
   "version": "3.10.9"
  }
 },
 "nbformat": 4,
 "nbformat_minor": 5
}
