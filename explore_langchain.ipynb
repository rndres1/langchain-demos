{
 "cells": [
  {
   "cell_type": "markdown",
   "id": "c5d81f98-7301-4cbb-914b-aaa5e8d989cf",
   "metadata": {},
   "source": [
    "### First, setup the LLMs. We will use Anthropic and OpenAI interchangeably."
   ]
  },
  {
   "cell_type": "code",
   "execution_count": 1,
   "id": "4b7be03f-dc6c-42b6-80e3-0fe960651e7e",
   "metadata": {},
   "outputs": [],
   "source": [
    "from langchain.llms import OpenAI\n",
    "from langchain import PromptTemplate\n",
    "from langchain.llms import Anthropic\n",
    "\n",
    "openai_llm = OpenAI(temperature=0.7)\n",
    "anthropic_llm = Anthropic(temperature=0.7)"
   ]
  },
  {
   "cell_type": "markdown",
   "id": "4645a822-d8e9-428d-b3d3-346626661bcb",
   "metadata": {},
   "source": [
    "### Example 1: Using PromptTemplate -- write a list of jokes about a given profession. Then write a second list of jokes similar to the first one but on a different profession"
   ]
  },
  {
   "cell_type": "markdown",
   "id": "bc728c2c-6a1b-4376-ae26-9f512a2755aa",
   "metadata": {},
   "source": [
    "**Prompt, template etc. need to be defined only once**"
   ]
  },
  {
   "cell_type": "code",
   "execution_count": 2,
   "id": "1f4f0b40-0094-4354-8a3a-e47f4185572d",
   "metadata": {},
   "outputs": [],
   "source": [
    "professions = ['computer scientists', 'truck drivers', 'lawyers', 'accountants', 'waitress', 'pilot']\n",
    "profession1 = professions[0]\n",
    "prompt1 = f\"Write 7 jokes about {profession1}. Return the jokes as a numbered list.\"\n",
    "\n",
    "template = \"\"\"\n",
    "Given below is a numbered list of jokes about {profession1}. \n",
    "Riff on these jokes to make equal number of similar jokes about {profession2}. \n",
    "Do not add any explanation, elaboration or any additional comments.\n",
    "---\n",
    "{jokes_output}\n",
    "\"\"\"\n",
    "p_template = PromptTemplate(input_variables=['profession1', 'profession2', 'jokes_output'], template=template)"
   ]
  },
  {
   "cell_type": "markdown",
   "id": "2622d89c-8d5e-4dc0-8913-2161dd649d01",
   "metadata": {},
   "source": [
    "**First, run on Anthropic**"
   ]
  },
  {
   "cell_type": "code",
   "execution_count": 3,
   "id": "f8e91998-478d-4486-bc74-9f9bf8f09c6c",
   "metadata": {},
   "outputs": [],
   "source": [
    "llm_in_use = anthropic_llm"
   ]
  },
  {
   "cell_type": "code",
   "execution_count": 4,
   "id": "8909bbad-7368-4f75-8c05-2a83faa3d3b5",
   "metadata": {},
   "outputs": [
    {
     "name": "stdout",
     "output_type": "stream",
     "text": [
      "1. Why did the computer scientist name his dog \"Java\"? Because every time he called him, he came object.\n",
      "\n",
      "2. Why was the computer scientist so happy? Because he finally caught Exception.\n",
      "\n",
      "3. Why did the computer scientist quit his job? Because he didn't get arrays.\n",
      "\n",
      "4. Why was the computer scientist's neighbor so noisy? Because he had a subroutine.\n",
      "\n",
      "5. Why can't you trust atoms? They make up everything.\n",
      "\n",
      "6. Why was the math book sad? Because it had too many problems.\n",
      "\n",
      "7. Why should you never make Iron Man angry? Because he has a lot of Stark raving mad moments.\n",
      "=======================truck drivers=====================\n",
      "1. Why did the truck driver name his dog \"Diesel\"? Because every time he called him, he came trucking.\n",
      "\n",
      "2. Why was the truck driver so happy? Because he finally caught Road Haul.\n",
      "\n",
      "3. Why did the truck driver quit his job? Because he didn't get trailers.\n",
      "\n",
      "4. Why was the truck driver's neighbor so noisy? Because he had a big rig.\n",
      "\n",
      "5. Why can't you trust atoms? They make up everything.\n",
      "\n",
      "6. Why was the math book sad? Because it had too many problems.\n",
      "\n",
      "7. Why should you never make Iron Man angry? Because he has a lot of Stark raving mad moments.\n",
      "=======================lawyers=====================\n",
      "1. Why did the lawyer name his dog \"Evidence\"? Because every time he called him, he came object.\n",
      "\n",
      "2. Why was the lawyer so happy? Because he finally caught Exception.\n",
      "\n",
      "3. Why did the lawyer quit his job? Because he didn't get arrays.\n",
      "\n",
      "4. Why was the lawyer's neighbor so noisy? Because he had a subroutine.\n",
      "\n",
      "5. Why can't you trust lawyers? They make up everything.\n",
      "\n",
      "6. Why was the law book sad? Because it had too many problems.\n",
      "\n",
      "7. Why should you never make a lawyer angry? Because he has a lot of Stark raving mad moments.\n",
      "=======================accountants=====================\n",
      "1. Why did the accountant name his dog \"Audit\"? Because every time he called him, he came object.\n",
      "\n",
      "2. Why was the accountant so happy? Because he finally caught Exception.\n",
      "\n",
      "3. Why did the accountant quit his job? Because he didn't get arrays.\n",
      "\n",
      "4. Why was the accountant's neighbor so noisy? Because he had a subroutine.\n",
      "\n",
      "5. Why can't you trust accountants? Because they make up everything.\n",
      "\n",
      "6. Why was the accounting book sad? Because it had too many problems.\n",
      "\n",
      "7. Why should you never make the accountant angry? Because he has a lot of accounting mad moments.\n",
      "=======================waitress=====================\n",
      "1. Why did the waitress name her dog \"Order\"? Because every time she called him, he came object.\n",
      "\n",
      "2. Why was the waitress so happy? Because she finally caught Exception.\n",
      "\n",
      "3. Why did the waitress quit her job? Because she didn't get arrays.\n",
      "\n",
      "4. Why was the waitress's neighbor so noisy? Because he had a subroutine.\n",
      "\n",
      "5. Why can't you trust customers? They make up everything.\n",
      "\n",
      "6. Why was the menu sad? Because it had too many problems.\n",
      "\n",
      "7. Why should you never make the chef angry? Because he has a lot of Stark raving mad moments.\n",
      "=======================pilot=====================\n",
      "1. Why did the pilot name his dog \"Autopilot\"? Because every time he called him, he came object.\n",
      "\n",
      "2. Why was the pilot so happy? Because he finally caught Exception.\n",
      "\n",
      "3. Why did the pilot quit his job? Because he didn't get arrays.\n",
      "\n",
      "4. Why was the pilot's neighbor so noisy? Because he had a subroutine.\n",
      "\n",
      "5. Why can't you trust air molecules? They make up everything.\n",
      "\n",
      "6. Why was the aviation manual sad? Because it had too many problems.\n",
      "\n",
      "7. Why should you never make Iron Man angry when he's flying the suit? Because he has a lot of Stark raving mad moments.\n"
     ]
    }
   ],
   "source": [
    "resp1 = llm_in_use(prompt1)\n",
    "print (resp1.strip())\n",
    "\n",
    "for profession2 in professions[1:]:\n",
    "    prompt2 = p_template.format(profession2=profession2, jokes_output=resp1, profession1=profession1)\n",
    "    resp2 = llm_in_use(prompt2)\n",
    "    print (f\"======================={profession2}=====================\")\n",
    "    print (resp2.strip())"
   ]
  },
  {
   "cell_type": "markdown",
   "id": "c6380f5f-4c63-4353-85a8-358ad76c8d74",
   "metadata": {},
   "source": [
    "**Next, OpenAI**"
   ]
  },
  {
   "cell_type": "code",
   "execution_count": 5,
   "id": "15ea4bc1-9d69-4b72-86b2-f90bc3720664",
   "metadata": {},
   "outputs": [],
   "source": [
    "llm_in_use = openai_llm"
   ]
  },
  {
   "cell_type": "code",
   "execution_count": null,
   "id": "42a3aa47-0bef-48e3-b7be-0436f9be13be",
   "metadata": {},
   "outputs": [
    {
     "name": "stdout",
     "output_type": "stream",
     "text": [
      "1. What do computer scientists do when they get thirsty? They compile a beverage.\n",
      "2. Why did the computer scientist cross the road? To get to the other hard drive.\n",
      "3. What did the computer scientist say when he found two cookies? \"Compile me a snack!\"\n",
      "4. How does a computer scientist greet you? \"Hello World!\"\n",
      "5. What did the computer scientist say when he was asked to fix a broken computer? \"I'll debug it!\"\n",
      "6. What did the computer scientist say when asked to fix a computer virus? \"I'll quarantine it!\"\n",
      "7. What did the computer scientist say when he was asked to make a website? \"I'll HTML it!\"\n",
      "=======================truck drivers=====================\n",
      "1. What do truck drivers do when they get thirsty? They fill up a beverage.\n",
      "2. Why did the truck driver cross the road? To get to the other weigh station.\n",
      "3. What did the truck driver say when he found two cookies? \"Load me a snack!\"\n",
      "4. How does a truck driver greet you? \"Truckin' on!\"\n",
      "5. What did the truck driver say when asked to fix a broken truck? \"I'll tune it up!\"\n",
      "6. What did the truck driver say when asked to fix a flat tire? \"I'll patch it up!\"\n",
      "7. What did the truck driver say when asked to haul a load? \"I'll truck it!\"\n",
      "=======================lawyers=====================\n",
      "1. What do lawyers do when they get thirsty? They litigate a beverage.\n",
      "2. Why did the lawyer cross the road? To get to the other court.\n",
      "3. What did the lawyer say when he found two cookies? \"Sue me a snack!\"\n",
      "4. How does a lawyer greet you? \"Objection!\"\n",
      "5. What did the lawyer say when asked to fix a broken contract? \"I'll revise it!\"\n",
      "6. What did the lawyer say when asked to fix a lawsuit? \"I'll settle it!\"\n",
      "7. What did the lawyer say when he was asked to make a contract? \"I'll draft it!\"\n",
      "=======================accountants=====================\n",
      "1. What do accountants do when they get thirsty? They balance a beverage.\n",
      "2. Why did the accountant cross the road? To get to the other ledger.\n",
      "3. What did the accountant say when he found two cookies? \"Calculate me a snack!\"\n",
      "4. How does an accountant greet you? \"Hello Balance Sheet!\"\n",
      "5. What did the accountant say when he was asked to fix a broken budget? \"I'll adjust it!\"\n",
      "6. What did the accountant say when asked to fix a financial crisis? \"I'll audit it!\"\n",
      "7. What did the accountant say when he was asked to make a budget? \"I'll Excel it!\"\n",
      "=======================waitress=====================\n",
      "8. What did the computer scientist say when he was asked to complete a task quickly? \"I'll algorithm it!\"\n",
      "\n",
      "1. What do waitresses do when they get thirsty? They pour a beverage.\n",
      "2. Why did the waitress cross the road? To get to the other side plate.\n",
      "3. What did the waitress say when she found two cookies? \"Serve me a snack!\"\n",
      "4. How does a waitress greet you? \"Hello there!\"\n",
      "5. What did the waitress say when she was asked to serve a meal? \"I'll plate it!\"\n",
      "6. What did the waitress say when asked to replace a dish? \"I'll re-plate it!\"\n",
      "7. What did the waitress say when she was asked to take an order? \"I'll pencil it!\"\n",
      "8. What did the waitress say when she was asked to complete a task quickly? \"I'll hustle it!\"\n"
     ]
    }
   ],
   "source": [
    "resp1 = llm_in_use(prompt1)\n",
    "print (resp1.strip())\n",
    "\n",
    "for profession2 in professions[1:]:\n",
    "    prompt2 = p_template.format(profession2=profession2, jokes_output=resp1, profession1=profession1)\n",
    "    resp2 = llm_in_use(prompt2)\n",
    "    print (f\"======================={profession2}=====================\")\n",
    "    print (resp2.strip())"
   ]
  },
  {
   "cell_type": "markdown",
   "id": "cff2500d-9f0d-4f53-b0ad-80582ecb6ac9",
   "metadata": {},
   "source": [
    "### Example 2 : using LLMchain"
   ]
  }
 ],
 "metadata": {
  "kernelspec": {
   "display_name": "Python 3 (ipykernel)",
   "language": "python",
   "name": "python3"
  },
  "language_info": {
   "codemirror_mode": {
    "name": "ipython",
    "version": 3
   },
   "file_extension": ".py",
   "mimetype": "text/x-python",
   "name": "python",
   "nbconvert_exporter": "python",
   "pygments_lexer": "ipython3",
   "version": "3.10.9"
  }
 },
 "nbformat": 4,
 "nbformat_minor": 5
}
